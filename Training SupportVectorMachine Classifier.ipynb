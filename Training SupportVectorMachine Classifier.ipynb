{
 "cells": [
  {
   "cell_type": "markdown",
   "id": "371f36f4",
   "metadata": {},
   "source": [
    "**Group 3**\n",
    "\n",
    "Matilda Savage\n",
    "\n",
    "Kasham Bature\n",
    "\n",
    "Odunayo Abogunrin\n",
    "\n",
    "Oluwabukunmi Falohun\n",
    "\n",
    "Nkechiyenre Ariom\n",
    "\n",
    "Oghenetega John\n",
    "\n",
    "Maureen Muomah\n",
    "\n",
    "Lydia Karioko\n",
    "\n",
    "Odinaka Ojiba\n"
   ]
  },
  {
   "cell_type": "markdown",
   "id": "d75e60c8",
   "metadata": {},
   "source": [
    "**Question**\n",
    "\n",
    "\n",
    "Train SVM classifier using sklearn digits dataset (i.e. from sklearn.datasets import load_digits) and then,\n",
    "\n",
    "Measure accuracy of your model using different kernels such as rbf and linear. Tune your model further using regularization and gamma parameters and try to come up with highest accurancy score Use 80% of samples as training data size\n",
    "\n",
    "Ps:those are hyper parameters used in SVM"
   ]
  },
  {
   "cell_type": "markdown",
   "id": "cce3b7c3",
   "metadata": {},
   "source": [
    "**Importing necesssary libraries and dataset from Sklearn library**"
   ]
  },
  {
   "cell_type": "code",
   "execution_count": 1,
   "id": "a053d37d",
   "metadata": {},
   "outputs": [],
   "source": [
    "import warnings\n",
    "warnings.simplefilter('ignore')\n",
    "import pandas as pd\n",
    "import matplotlib.pyplot as plt\n",
    "%matplotlib inline\n",
    "import seaborn as sns\n",
    "import numpy as np\n",
    "from sklearn.datasets import load_digits\n",
    "digits = load_digits()"
   ]
  },
  {
   "cell_type": "code",
   "execution_count": 2,
   "id": "00502748",
   "metadata": {},
   "outputs": [
    {
     "data": {
      "text/plain": [
       "['DESCR', 'data', 'feature_names', 'frame', 'images', 'target', 'target_names']"
      ]
     },
     "execution_count": 2,
     "metadata": {},
     "output_type": "execute_result"
    }
   ],
   "source": [
    "dir(digits)"
   ]
  },
  {
   "cell_type": "markdown",
   "id": "2bc641d8",
   "metadata": {},
   "source": [
    "**Creating a dataframe with the independent variable (data) and assigning it to a variable name**"
   ]
  },
  {
   "cell_type": "code",
   "execution_count": 3,
   "id": "45401349",
   "metadata": {},
   "outputs": [
    {
     "name": "stdout",
     "output_type": "stream",
     "text": [
      "    0    1    2     3     4     5    6    7    8    9   ...   54   55   56  \\\n",
      "0  0.0  0.0  5.0  13.0   9.0   1.0  0.0  0.0  0.0  0.0  ...  0.0  0.0  0.0   \n",
      "1  0.0  0.0  0.0  12.0  13.0   5.0  0.0  0.0  0.0  0.0  ...  0.0  0.0  0.0   \n",
      "2  0.0  0.0  0.0   4.0  15.0  12.0  0.0  0.0  0.0  0.0  ...  5.0  0.0  0.0   \n",
      "3  0.0  0.0  7.0  15.0  13.0   1.0  0.0  0.0  0.0  8.0  ...  9.0  0.0  0.0   \n",
      "4  0.0  0.0  0.0   1.0  11.0   0.0  0.0  0.0  0.0  0.0  ...  0.0  0.0  0.0   \n",
      "\n",
      "    57   58    59    60    61   62   63  \n",
      "0  0.0  6.0  13.0  10.0   0.0  0.0  0.0  \n",
      "1  0.0  0.0  11.0  16.0  10.0  0.0  0.0  \n",
      "2  0.0  0.0   3.0  11.0  16.0  9.0  0.0  \n",
      "3  0.0  7.0  13.0  13.0   9.0  0.0  0.0  \n",
      "4  0.0  0.0   2.0  16.0   4.0  0.0  0.0  \n",
      "\n",
      "[5 rows x 64 columns]\n",
      "(1797, 64)\n"
     ]
    }
   ],
   "source": [
    "X=pd.DataFrame(digits.data)\n",
    "\n",
    "print(X.head())\n",
    "\n",
    "print(X.shape)"
   ]
  },
  {
   "cell_type": "code",
   "execution_count": 4,
   "id": "cfa05bd2",
   "metadata": {},
   "outputs": [
    {
     "data": {
      "text/plain": [
       "RangeIndex(start=0, stop=64, step=1)"
      ]
     },
     "execution_count": 4,
     "metadata": {},
     "output_type": "execute_result"
    }
   ],
   "source": [
    "X.columns"
   ]
  },
  {
   "cell_type": "markdown",
   "id": "fdd8f826",
   "metadata": {},
   "source": [
    "**Checking to know if the dataframe has null values**"
   ]
  },
  {
   "cell_type": "code",
   "execution_count": 5,
   "id": "a5db3d55",
   "metadata": {},
   "outputs": [
    {
     "data": {
      "text/plain": [
       "0     0\n",
       "1     0\n",
       "2     0\n",
       "3     0\n",
       "4     0\n",
       "     ..\n",
       "59    0\n",
       "60    0\n",
       "61    0\n",
       "62    0\n",
       "63    0\n",
       "Length: 64, dtype: int64"
      ]
     },
     "execution_count": 5,
     "metadata": {},
     "output_type": "execute_result"
    }
   ],
   "source": [
    "X.isnull().sum()"
   ]
  },
  {
   "cell_type": "markdown",
   "id": "a9ad04b0",
   "metadata": {},
   "source": [
    "**Creating a dataframe with the independent variable (data) and assigning it to a variable name**"
   ]
  },
  {
   "cell_type": "code",
   "execution_count": 6,
   "id": "6d623cf9",
   "metadata": {},
   "outputs": [
    {
     "name": "stdout",
     "output_type": "stream",
     "text": [
      "   0\n",
      "0  0\n",
      "1  1\n",
      "2  2\n",
      "3  3\n",
      "4  4\n",
      "(1797, 1)\n"
     ]
    }
   ],
   "source": [
    "y=pd.DataFrame(digits.target)\n",
    "print(y.head())\n",
    "print(y.shape)"
   ]
  },
  {
   "cell_type": "code",
   "execution_count": 7,
   "id": "95da9c12",
   "metadata": {},
   "outputs": [
    {
     "data": {
      "text/plain": [
       "RangeIndex(start=0, stop=1, step=1)"
      ]
     },
     "execution_count": 7,
     "metadata": {},
     "output_type": "execute_result"
    }
   ],
   "source": [
    "y.columns"
   ]
  },
  {
   "cell_type": "markdown",
   "id": "a096d7fc",
   "metadata": {},
   "source": [
    "**Checking to know if the dataframe has null values**"
   ]
  },
  {
   "cell_type": "code",
   "execution_count": 8,
   "id": "046d9cf2",
   "metadata": {},
   "outputs": [
    {
     "data": {
      "text/plain": [
       "0    0\n",
       "dtype: int64"
      ]
     },
     "execution_count": 8,
     "metadata": {},
     "output_type": "execute_result"
    }
   ],
   "source": [
    "y.isnull().sum()"
   ]
  },
  {
   "cell_type": "markdown",
   "id": "6a5d4c82",
   "metadata": {},
   "source": [
    "**Splitting the data into test and train**"
   ]
  },
  {
   "cell_type": "code",
   "execution_count": 9,
   "id": "2a094648",
   "metadata": {},
   "outputs": [],
   "source": [
    "from sklearn.model_selection import train_test_split\n",
    "X_train,X_test,y_train,y_test= train_test_split(X,y,test_size=0.2,random_state=12)"
   ]
  },
  {
   "cell_type": "markdown",
   "id": "9a7025b9",
   "metadata": {},
   "source": [
    "**Verifying if the data was properly splitted**"
   ]
  },
  {
   "cell_type": "code",
   "execution_count": 10,
   "id": "b4ac0579",
   "metadata": {},
   "outputs": [
    {
     "name": "stdout",
     "output_type": "stream",
     "text": [
      "1437\n",
      "360\n"
     ]
    }
   ],
   "source": [
    "print(len(X_train))\n",
    "\n",
    "print(len(X_test))"
   ]
  },
  {
   "cell_type": "markdown",
   "id": "b0015334",
   "metadata": {},
   "source": [
    "**RBF KERNEL**"
   ]
  },
  {
   "cell_type": "markdown",
   "id": "d81bd9e7",
   "metadata": {},
   "source": [
    "**Training the SVM model using rbf kernel**"
   ]
  },
  {
   "cell_type": "code",
   "execution_count": 11,
   "id": "0a95dde6",
   "metadata": {},
   "outputs": [],
   "source": [
    "from sklearn.metrics import accuracy_score\n",
    "\n",
    "from sklearn.svm import SVC\n",
    "\n",
    "model1=SVC(kernel='rbf',random_state=0, probability=True)"
   ]
  },
  {
   "cell_type": "markdown",
   "id": "76e17600",
   "metadata": {},
   "source": [
    "**Fitting the SVM model using rbf kernel**"
   ]
  },
  {
   "cell_type": "code",
   "execution_count": 12,
   "id": "3c32aa02",
   "metadata": {},
   "outputs": [
    {
     "data": {
      "text/plain": [
       "SVC(probability=True, random_state=0)"
      ]
     },
     "execution_count": 12,
     "metadata": {},
     "output_type": "execute_result"
    }
   ],
   "source": [
    "model1.fit(X_train,y_train)"
   ]
  },
  {
   "cell_type": "markdown",
   "id": "d08bf53d",
   "metadata": {},
   "source": [
    "**Making predictions with SVM model using rbf kernel**"
   ]
  },
  {
   "cell_type": "code",
   "execution_count": 13,
   "id": "f44a8427",
   "metadata": {},
   "outputs": [
    {
     "data": {
      "text/plain": [
       "array([2, 8, 7, 0, 2, 1, 8, 8, 9, 1, 5, 9, 2, 2, 1, 2, 0, 7, 7, 2, 4, 4,\n",
       "       4, 7, 2, 7, 3, 6, 7, 4, 2, 3, 1, 5, 7, 0, 9, 2, 7, 2, 9, 8, 6, 5,\n",
       "       1, 3, 1, 7, 1, 3, 3, 2, 3, 7, 7, 7, 2, 9, 4, 7, 4, 6, 9, 3, 0, 6,\n",
       "       8, 3, 6, 0, 9, 7, 2, 0, 1, 2, 3, 3, 0, 9, 8, 1, 5, 8, 9, 4, 5, 6,\n",
       "       0, 0, 3, 1, 3, 2, 4, 4, 7, 5, 6, 4, 8, 6, 4, 5, 1, 1, 4, 6, 9, 7,\n",
       "       1, 5, 0, 2, 3, 5, 2, 8, 1, 7, 5, 9, 9, 7, 6, 4, 7, 3, 2, 2, 3, 0,\n",
       "       0, 4, 0, 0, 5, 8, 5, 6, 4, 8, 6, 0, 7, 7, 4, 9, 4, 2, 3, 6, 7, 5,\n",
       "       9, 3, 6, 9, 6, 3, 4, 9, 6, 6, 0, 3, 6, 7, 9, 8, 8, 1, 5, 0, 4, 9,\n",
       "       3, 4, 0, 5, 3, 0, 5, 3, 8, 4, 3, 3, 5, 4, 1, 4, 4, 3, 7, 8, 8, 1,\n",
       "       7, 8, 5, 0, 5, 3, 7, 0, 4, 1, 3, 1, 9, 5, 9, 9, 1, 3, 0, 9, 2, 0,\n",
       "       3, 8, 8, 0, 6, 3, 1, 9, 3, 8, 7, 7, 1, 3, 3, 7, 0, 6, 5, 6, 1, 9,\n",
       "       9, 8, 4, 5, 2, 3, 0, 9, 0, 3, 2, 7, 7, 8, 0, 4, 6, 5, 6, 5, 0, 4,\n",
       "       2, 4, 6, 0, 3, 0, 6, 3, 8, 3, 7, 2, 6, 1, 4, 1, 7, 6, 4, 2, 7, 3,\n",
       "       8, 6, 9, 7, 1, 5, 8, 0, 9, 7, 7, 1, 3, 3, 2, 8, 4, 2, 5, 4, 2, 0,\n",
       "       9, 0, 1, 1, 8, 4, 2, 9, 9, 7, 5, 1, 2, 9, 2, 2, 9, 4, 0, 9, 2, 1,\n",
       "       6, 2, 1, 7, 9, 8, 5, 4, 7, 8, 8, 3, 9, 5, 2, 5, 7, 0, 5, 3, 2, 5,\n",
       "       9, 4, 8, 8, 7, 4, 2, 0])"
      ]
     },
     "execution_count": 13,
     "metadata": {},
     "output_type": "execute_result"
    }
   ],
   "source": [
    "y_pred_1=model1.predict(X_test)\n",
    "y_pred_1"
   ]
  },
  {
   "cell_type": "markdown",
   "id": "d111a470",
   "metadata": {},
   "source": [
    "**Accuracy score of SVM model using the rbf kernel**"
   ]
  },
  {
   "cell_type": "code",
   "execution_count": 14,
   "id": "ded036a3",
   "metadata": {},
   "outputs": [
    {
     "name": "stdout",
     "output_type": "stream",
     "text": [
      "Model Score of Kernel(rbf) : 0.9916666666666667\n"
     ]
    }
   ],
   "source": [
    "model1.score(X_test,y_test)\n",
    "print(\"Model Score of Kernel(rbf) :\", model1.score(X_test,y_test))"
   ]
  },
  {
   "cell_type": "markdown",
   "id": "6aa04051",
   "metadata": {},
   "source": [
    "**LINEAR KERNEL**"
   ]
  },
  {
   "cell_type": "markdown",
   "id": "170be094",
   "metadata": {},
   "source": [
    "**Training the SVM model using linear kernel**"
   ]
  },
  {
   "cell_type": "code",
   "execution_count": 15,
   "id": "5da1404c",
   "metadata": {},
   "outputs": [],
   "source": [
    "model2=SVC(kernel='linear',random_state=0, probability=True)"
   ]
  },
  {
   "cell_type": "markdown",
   "id": "f8954fa0",
   "metadata": {},
   "source": [
    "**Fitting the SVM model using Linear kernel**"
   ]
  },
  {
   "cell_type": "code",
   "execution_count": 16,
   "id": "a61be4f7",
   "metadata": {},
   "outputs": [
    {
     "data": {
      "text/plain": [
       "SVC(kernel='linear', probability=True, random_state=0)"
      ]
     },
     "execution_count": 16,
     "metadata": {},
     "output_type": "execute_result"
    }
   ],
   "source": [
    "model2.fit(X_train,y_train)"
   ]
  },
  {
   "cell_type": "markdown",
   "id": "cdd1a3c8",
   "metadata": {},
   "source": [
    "**Making predictions with SVM model using linear kernel**"
   ]
  },
  {
   "cell_type": "code",
   "execution_count": 17,
   "id": "c6e8868b",
   "metadata": {},
   "outputs": [
    {
     "data": {
      "text/plain": [
       "array([2, 8, 7, 0, 2, 1, 8, 8, 9, 1, 5, 9, 2, 2, 1, 2, 0, 7, 7, 2, 4, 4,\n",
       "       4, 7, 2, 7, 3, 6, 7, 4, 2, 3, 1, 5, 7, 0, 9, 2, 7, 2, 9, 8, 6, 5,\n",
       "       1, 3, 1, 7, 1, 3, 3, 2, 3, 7, 7, 7, 2, 9, 4, 7, 4, 6, 9, 3, 0, 6,\n",
       "       2, 3, 6, 0, 9, 7, 2, 0, 1, 2, 3, 3, 0, 9, 8, 1, 9, 8, 9, 4, 5, 6,\n",
       "       0, 0, 3, 1, 3, 2, 4, 4, 7, 5, 6, 4, 8, 6, 4, 5, 1, 1, 4, 6, 9, 7,\n",
       "       1, 5, 0, 2, 3, 5, 2, 8, 1, 7, 5, 9, 9, 7, 6, 4, 7, 3, 2, 2, 3, 0,\n",
       "       0, 4, 0, 0, 5, 8, 5, 6, 4, 8, 6, 0, 7, 7, 4, 9, 4, 2, 3, 6, 7, 5,\n",
       "       9, 3, 4, 9, 6, 3, 4, 3, 6, 6, 0, 3, 6, 7, 9, 1, 8, 1, 5, 0, 4, 9,\n",
       "       3, 4, 0, 5, 3, 0, 5, 3, 8, 4, 3, 3, 5, 4, 1, 4, 4, 3, 7, 8, 8, 1,\n",
       "       7, 8, 5, 0, 5, 3, 7, 0, 4, 1, 3, 1, 9, 5, 9, 4, 1, 3, 0, 9, 2, 0,\n",
       "       9, 8, 1, 0, 6, 3, 1, 9, 3, 8, 7, 7, 1, 3, 3, 7, 0, 6, 5, 6, 1, 9,\n",
       "       9, 8, 4, 5, 2, 3, 0, 9, 0, 3, 2, 7, 7, 8, 0, 4, 6, 5, 6, 5, 0, 4,\n",
       "       2, 4, 6, 0, 3, 0, 6, 3, 8, 3, 7, 2, 6, 1, 4, 1, 7, 6, 4, 2, 7, 3,\n",
       "       8, 6, 9, 7, 1, 5, 8, 0, 9, 7, 7, 1, 3, 3, 2, 8, 4, 2, 5, 4, 2, 0,\n",
       "       9, 0, 1, 1, 8, 4, 2, 9, 9, 7, 5, 1, 2, 3, 2, 2, 9, 4, 0, 9, 2, 1,\n",
       "       6, 2, 1, 7, 9, 8, 5, 4, 7, 8, 8, 3, 9, 5, 2, 5, 7, 0, 5, 3, 2, 5,\n",
       "       9, 4, 8, 8, 7, 4, 2, 0])"
      ]
     },
     "execution_count": 17,
     "metadata": {},
     "output_type": "execute_result"
    }
   ],
   "source": [
    "y_pred_2=model2.predict(X_test)\n",
    "y_pred_2"
   ]
  },
  {
   "cell_type": "markdown",
   "id": "79234ccf",
   "metadata": {},
   "source": [
    "**Accuracy score of SVM model using the linear kernel**"
   ]
  },
  {
   "cell_type": "code",
   "execution_count": 18,
   "id": "af35a176",
   "metadata": {},
   "outputs": [
    {
     "name": "stdout",
     "output_type": "stream",
     "text": [
      "Model Score of Kernel(linear) : 0.975\n"
     ]
    }
   ],
   "source": [
    "print(\"Model Score of Kernel(linear) :\", model2.score(X_test,y_test))"
   ]
  },
  {
   "cell_type": "markdown",
   "id": "9d01b710",
   "metadata": {},
   "source": [
    "**POLY KERNEL**"
   ]
  },
  {
   "cell_type": "markdown",
   "id": "5f99fc89",
   "metadata": {},
   "source": [
    "**Training the SVM model using poly kernel**"
   ]
  },
  {
   "cell_type": "code",
   "execution_count": 19,
   "id": "3b89f553",
   "metadata": {},
   "outputs": [],
   "source": [
    "model3=SVC(kernel='poly',random_state=0, probability=True)"
   ]
  },
  {
   "cell_type": "markdown",
   "id": "721e7ca2",
   "metadata": {},
   "source": [
    "**Fitting the SVM model using poly kernel**"
   ]
  },
  {
   "cell_type": "code",
   "execution_count": 20,
   "id": "0cdb1b49",
   "metadata": {},
   "outputs": [
    {
     "data": {
      "text/plain": [
       "SVC(kernel='poly', probability=True, random_state=0)"
      ]
     },
     "execution_count": 20,
     "metadata": {},
     "output_type": "execute_result"
    }
   ],
   "source": [
    "model3.fit(X_train,y_train)"
   ]
  },
  {
   "cell_type": "markdown",
   "id": "6936bec3",
   "metadata": {},
   "source": [
    "**Making predictions with the SVM model using poly kernel**"
   ]
  },
  {
   "cell_type": "code",
   "execution_count": 21,
   "id": "45bb7422",
   "metadata": {},
   "outputs": [
    {
     "data": {
      "text/plain": [
       "array([2, 8, 7, 0, 2, 1, 8, 8, 9, 1, 5, 9, 2, 2, 1, 2, 0, 7, 7, 2, 4, 4,\n",
       "       4, 7, 2, 7, 3, 6, 7, 4, 2, 3, 1, 5, 7, 0, 9, 2, 7, 2, 9, 8, 6, 5,\n",
       "       1, 3, 1, 7, 1, 3, 3, 2, 3, 7, 7, 7, 2, 9, 4, 7, 4, 6, 9, 3, 0, 6,\n",
       "       8, 3, 6, 0, 9, 7, 2, 0, 1, 2, 3, 3, 0, 9, 8, 1, 5, 8, 9, 4, 5, 6,\n",
       "       0, 0, 3, 1, 3, 2, 4, 4, 7, 5, 6, 4, 8, 6, 4, 5, 1, 1, 4, 6, 9, 7,\n",
       "       1, 5, 0, 2, 3, 5, 2, 8, 1, 7, 5, 9, 9, 7, 6, 4, 7, 3, 2, 2, 3, 0,\n",
       "       0, 4, 0, 0, 5, 8, 5, 6, 4, 8, 6, 0, 7, 7, 4, 9, 4, 2, 3, 6, 7, 5,\n",
       "       9, 3, 6, 9, 6, 3, 4, 9, 6, 6, 0, 3, 6, 7, 9, 8, 8, 1, 5, 0, 4, 9,\n",
       "       3, 4, 0, 5, 3, 0, 5, 3, 8, 4, 3, 3, 5, 4, 1, 4, 4, 3, 7, 8, 8, 1,\n",
       "       7, 8, 5, 0, 5, 3, 7, 0, 4, 1, 3, 1, 9, 5, 9, 4, 1, 3, 0, 9, 2, 0,\n",
       "       3, 8, 8, 0, 6, 3, 1, 9, 3, 8, 7, 7, 1, 3, 3, 7, 0, 6, 5, 6, 1, 9,\n",
       "       9, 8, 4, 5, 2, 3, 0, 9, 0, 3, 2, 7, 7, 8, 0, 4, 6, 5, 6, 5, 0, 4,\n",
       "       2, 4, 6, 0, 3, 0, 6, 3, 8, 3, 7, 2, 6, 1, 4, 1, 7, 6, 4, 2, 7, 3,\n",
       "       8, 6, 9, 7, 1, 5, 8, 0, 9, 7, 7, 1, 3, 3, 2, 8, 4, 2, 5, 4, 2, 0,\n",
       "       9, 0, 1, 1, 8, 4, 2, 9, 9, 7, 5, 1, 2, 9, 2, 2, 9, 4, 0, 9, 2, 1,\n",
       "       6, 2, 1, 7, 9, 8, 5, 4, 7, 8, 8, 3, 9, 5, 2, 5, 7, 0, 5, 3, 2, 5,\n",
       "       9, 4, 8, 8, 7, 4, 2, 0])"
      ]
     },
     "execution_count": 21,
     "metadata": {},
     "output_type": "execute_result"
    }
   ],
   "source": [
    "y_pred_3=model3.predict(X_test)\n",
    "y_pred_3"
   ]
  },
  {
   "cell_type": "markdown",
   "id": "8505992c",
   "metadata": {},
   "source": [
    "**Accuracy score of the SVM model using the linear kernel**"
   ]
  },
  {
   "cell_type": "code",
   "execution_count": 22,
   "id": "59208d27",
   "metadata": {},
   "outputs": [
    {
     "name": "stdout",
     "output_type": "stream",
     "text": [
      "Model Score of poly(linear) : 0.9944444444444445\n"
     ]
    }
   ],
   "source": [
    "print(\"Model Score of poly(linear) :\", model3.score(X_test,y_test))"
   ]
  },
  {
   "cell_type": "markdown",
   "id": "3fc1bc28",
   "metadata": {},
   "source": [
    "**Comparing the accuracy score of the three kernels (rbf, linear and poly)** "
   ]
  },
  {
   "cell_type": "code",
   "execution_count": 23,
   "id": "c0b037fd",
   "metadata": {},
   "outputs": [
    {
     "name": "stdout",
     "output_type": "stream",
     "text": [
      "The accuracy score of the SVM model using rbf kernel is 0.9916666666666667\n",
      "The accuracy score of the SVM model using linear kernel is 0.975\n",
      "The accuracy score of the SVM model using poly kernel is 0.9944444444444445\n"
     ]
    }
   ],
   "source": [
    "print ('The accuracy score of the SVM model using rbf kernel is', model1.score(X_test,y_test))\n",
    "print ('The accuracy score of the SVM model using linear kernel is', model2.score(X_test,y_test))\n",
    "print ('The accuracy score of the SVM model using poly kernel is', model3.score(X_test,y_test))"
   ]
  },
  {
   "cell_type": "markdown",
   "id": "4eebb53e",
   "metadata": {},
   "source": [
    "*The poly kernel gave the highest accuracy score*"
   ]
  },
  {
   "cell_type": "markdown",
   "id": "1f880e9e",
   "metadata": {},
   "source": [
    "**Confusion Matrix**"
   ]
  },
  {
   "cell_type": "markdown",
   "id": "08e751ba",
   "metadata": {},
   "source": [
    "*Since the model with the poly kernel generated the highest accuracy score, a confusion matrix will be made with its predicted values*\n"
   ]
  },
  {
   "cell_type": "code",
   "execution_count": 24,
   "id": "858a397e",
   "metadata": {},
   "outputs": [
    {
     "data": {
      "text/plain": [
       "array([[37,  0,  0,  0,  0,  0,  0,  0,  0,  0],\n",
       "       [ 0, 32,  0,  0,  0,  0,  0,  0,  0,  0],\n",
       "       [ 0,  0, 38,  0,  0,  0,  0,  0,  0,  0],\n",
       "       [ 0,  0,  0, 43,  0,  0,  0,  0,  0,  0],\n",
       "       [ 0,  0,  0,  0, 39,  0,  0,  0,  0,  0],\n",
       "       [ 0,  0,  0,  0,  0, 32,  0,  0,  0,  2],\n",
       "       [ 0,  0,  0,  0,  0,  0, 29,  0,  0,  0],\n",
       "       [ 0,  0,  0,  0,  0,  0,  0, 42,  0,  0],\n",
       "       [ 0,  0,  0,  0,  0,  0,  0,  0, 32,  0],\n",
       "       [ 0,  0,  0,  0,  0,  0,  0,  0,  0, 34]], dtype=int64)"
      ]
     },
     "execution_count": 24,
     "metadata": {},
     "output_type": "execute_result"
    }
   ],
   "source": [
    "from sklearn.metrics import confusion_matrix\n",
    "\n",
    "cm=np.array(confusion_matrix(y_test,y_pred_3))\n",
    "\n",
    "cm"
   ]
  },
  {
   "cell_type": "code",
   "execution_count": 26,
   "id": "a4c72e9f",
   "metadata": {},
   "outputs": [
    {
     "name": "stdout",
     "output_type": "stream",
     "text": [
      "ACCURACY is 0.9944444444444445\n"
     ]
    }
   ],
   "source": [
    "accuracy=accuracy_score(y_test,y_pred_3)\n",
    "\n",
    "print('ACCURACY is',accuracy)"
   ]
  },
  {
   "cell_type": "code",
   "execution_count": 28,
   "id": "29bad362",
   "metadata": {},
   "outputs": [
    {
     "data": {
      "image/png": "[encoded data removed]",
      "text/plain": [
       "<Figure size 864x864 with 2 Axes>"
      ]
     },
     "metadata": {
      "needs_background": "light"
     },
     "output_type": "display_data"
    }
   ],
   "source": [
    "plt.figure(figsize=(12,12))\n",
    "\n",
    "sns.heatmap(cm, annot=True, fmt=\".2f\", linewidths=.5, square = True, cmap = 'Blues_r')\n",
    "\n",
    "plt.ylabel('Actual label')\n",
    "\n",
    "plt.xlabel('Predicted label')\n",
    "\n",
    "A=f'Accuracy Score :{accuracy:.2f}'\n",
    "\n",
    "plt.title(A)\n",
    "\n",
    "plt.show()"
   ]
  },
  {
   "cell_type": "markdown",
   "id": "1c6d02d8",
   "metadata": {},
   "source": [
    "*The predicted digits matched the actual digits except in two cases where digit 9 was predicted wrongly as digit 5*"
   ]
  },
  {
   "cell_type": "markdown",
   "id": "97712a5d",
   "metadata": {},
   "source": [
    "**Regularization of the model**"
   ]
  },
  {
   "cell_type": "code",
   "execution_count": 37,
   "id": "4886cd62",
   "metadata": {},
   "outputs": [
    {
     "data": {
      "text/plain": [
       "0.9916666666666667"
      ]
     },
     "execution_count": 37,
     "metadata": {},
     "output_type": "execute_result"
    }
   ],
   "source": [
    "model1_C=SVC(C=1)\n",
    "\n",
    "model1_C.fit(X_train,y_train)\n",
    "\n",
    "model1_C.score(X_test,y_test)"
   ]
  },
  {
   "cell_type": "code",
   "execution_count": 38,
   "id": "4b0f701a",
   "metadata": {},
   "outputs": [
    {
     "data": {
      "text/plain": [
       "0.9944444444444445"
      ]
     },
     "execution_count": 38,
     "metadata": {},
     "output_type": "execute_result"
    }
   ],
   "source": [
    "model1_C=SVC(C=2)\n",
    "\n",
    "model1_C.fit(X_train,y_train)\n",
    "\n",
    "model1_C.score(X_test,y_test)"
   ]
  },
  {
   "cell_type": "code",
   "execution_count": 39,
   "id": "6df2d961",
   "metadata": {},
   "outputs": [
    {
     "data": {
      "text/plain": [
       "0.9944444444444445"
      ]
     },
     "execution_count": 39,
     "metadata": {},
     "output_type": "execute_result"
    }
   ],
   "source": [
    "model1_C=SVC(C=3)\n",
    "\n",
    "model1_C.fit(X_train,y_train)\n",
    "\n",
    "model1_C.score(X_test,y_test)"
   ]
  },
  {
   "cell_type": "code",
   "execution_count": 40,
   "id": "460a7ad1",
   "metadata": {},
   "outputs": [
    {
     "data": {
      "text/plain": [
       "0.9944444444444445"
      ]
     },
     "execution_count": 40,
     "metadata": {},
     "output_type": "execute_result"
    }
   ],
   "source": [
    "model1_C=SVC(C=4)\n",
    "\n",
    "model1_C.fit(X_train,y_train)\n",
    "\n",
    "model1_C.score(X_test,y_test)"
   ]
  },
  {
   "cell_type": "code",
   "execution_count": 41,
   "id": "59127d19",
   "metadata": {},
   "outputs": [
    {
     "data": {
      "text/plain": [
       "0.9944444444444445"
      ]
     },
     "execution_count": 41,
     "metadata": {},
     "output_type": "execute_result"
    }
   ],
   "source": [
    "model1_C=SVC(C=5)\n",
    "\n",
    "model1_C.fit(X_train,y_train)\n",
    "\n",
    "model1_C.score(X_test,y_test)"
   ]
  },
  {
   "cell_type": "markdown",
   "id": "a864bdbc",
   "metadata": {},
   "source": [
    "*Gamma*"
   ]
  },
  {
   "cell_type": "code",
   "execution_count": 45,
   "id": "d8d5055d",
   "metadata": {},
   "outputs": [
    {
     "data": {
      "text/plain": [
       "0.08055555555555556"
      ]
     },
     "execution_count": 45,
     "metadata": {},
     "output_type": "execute_result"
    }
   ],
   "source": [
    "model1_C=SVC(gamma=5)\n",
    "\n",
    "model1_C.fit(X_train,y_train)\n",
    "\n",
    "model1_C.score(X_test,y_test)"
   ]
  },
  {
   "cell_type": "code",
   "execution_count": 47,
   "id": "3bbc1ac7",
   "metadata": {},
   "outputs": [
    {
     "data": {
      "text/plain": [
       "0.08055555555555556"
      ]
     },
     "execution_count": 47,
     "metadata": {},
     "output_type": "execute_result"
    }
   ],
   "source": [
    "model1_C=SVC(gamma=10)\n",
    "\n",
    "model1_C.fit(X_train,y_train)\n",
    "\n",
    "model1_C.score(X_test,y_test)"
   ]
  },
  {
   "cell_type": "code",
   "execution_count": 48,
   "id": "d37b45cd",
   "metadata": {},
   "outputs": [
    {
     "data": {
      "text/plain": [
       "0.08055555555555556"
      ]
     },
     "execution_count": 48,
     "metadata": {},
     "output_type": "execute_result"
    }
   ],
   "source": [
    "model1_C=SVC(gamma=10000000)\n",
    "\n",
    "model1_C.fit(X_train,y_train)\n",
    "\n",
    "model1_C.score(X_test,y_test)"
   ]
  }
 ],
 "metadata": {
  "kernelspec": {
   "display_name": "Python 3 (ipykernel)",
   "language": "python",
   "name": "python3"
  },
  "language_info": {
   "codemirror_mode": {
    "name": "ipython",
    "version": 3
   },
   "file_extension": ".py",
   "mimetype": "text/x-python",
   "name": "python",
   "nbconvert_exporter": "python",
   "pygments_lexer": "ipython3",
   "version": "3.9.12"
  }
 },
 "nbformat": 4,
 "nbformat_minor": 5
}
